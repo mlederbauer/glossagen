{
 "cells": [
  {
   "cell_type": "markdown",
   "metadata": {},
   "source": [
    "https://python.langchain.com/docs/use_cases/graph/constructing/"
   ]
  },
  {
   "cell_type": "code",
   "execution_count": null,
   "metadata": {},
   "outputs": [],
   "source": [
    "from dotenv import load_dotenv\n",
    "import os\n",
    "\n",
    "from langchain_community.graphs import Neo4jGraph\n",
    "\n",
    "\n",
    "load_dotenv()\n",
    "diffbot_api_key = os.getenv(\"DIFFBOT_API_KEY\")\n",
    "os.environ[\"NEO4J_URI\"] = os.getenv(\"NEO4J_URI\")\n",
    "os.environ[\"NEO4J_USERNAME\"] = os.getenv(\"NEO4J_USERNAME\")\n",
    "os.environ[\"NEO4J_PASSWORD\"] = os.getenv(\"NEO4J_PASSWORD\")\n",
    "\n",
    "graph = Neo4jGraph()"
   ]
  },
  {
   "cell_type": "code",
   "execution_count": null,
   "metadata": {},
   "outputs": [],
   "source": [
    "import os\n",
    "\n",
    "from langchain_experimental.graph_transformers import LLMGraphTransformer\n",
    "from langchain_openai import ChatOpenAI\n",
    "from langchain_core.documents import Document\n",
    "\n",
    "llm = ChatOpenAI(temperature=0, model_name=\"gpt-4-0125-preview\")\n",
    "\n",
    "llm_transformer = LLMGraphTransformer(llm=llm)"
   ]
  },
  {
   "cell_type": "code",
   "execution_count": null,
   "metadata": {},
   "outputs": [],
   "source": [
    "text = \"\"\"\n",
    "Zeolites: Crystalline, microporous aluminosilicate minerals commonly used as adsorbents in various applications.\n",
    "Dentistry: The branch of medicine that deals with the study, diagnosis, prevention, and treatment of diseases and conditions related to the oral cavity and its associated structures.\n",
    "Physical properties: Characteristics of a material that can be observed or measured without changing its chemical composition, such as density, melting point, and hardness.\n",
    "Chemical properties: Characteristics of a material that describe its behavior in chemical reactions, such as reactivity, acidity, and stability.\n",
    "Dental materials: Materials specifically designed and used in dentistry for various applications like restorations, prosthetics, and preventive care.\n",
    "Endodontics: A branch of dentistry that deals with the study and treatment of dental pulp and tissues surrounding the roots of a tooth.\n",
    "Biomaterials: Materials that are compatible with biological systems and are used in medical applications.\n",
    "Masticatory Disorders: Conditions affecting the ability to chew or move the jaw.\n",
    "Reconstructive Dentistry: The branch of dentistry focused on restoring the function and aesthetics of the mouth.\n",
    "Si-O bond: Chemical bond between silicon and oxygen atoms.\n",
    "Al-O bond: Chemical bond between aluminum and oxygen atoms.\n",
    "Tetrahedral building blocks: Basic units in materials composed of four atoms arranged in a tetrahedral shape.\n",
    "Microporous materials: Materials with pore diameters smaller than 2 nm.\n",
    "IUPAC: International Union of Pure and Applied Chemistry.\n",
    "Ionomer Cements (GIC): Glass Ionomer Cements, a type of dental material used in restorative dentistry.\n",
    "In vitro: Studies or experiments conducted outside of a living organism, typically in a controlled environment.\n",
    "Agar diffusion assays: A method to test the diffusion of substances through agar, commonly used in microbiology for assessing antimicrobial properties.\n",
    "Silver-incor: Possibly referring to silver incorporation into a material or compound, context-dependent.\n",
    "AgZ: Abbreviation for silver-incorporated zeolite, a composite material containing silver ions within a zeolite framework.\n",
    "GIC: Glass ionomer cement, a dental restorative material that releases fluoride and other ions to promote remineralization and inhibit bacterial growth.\n",
    "ZnZ: Zinc-containing zeolites, materials with antibacterial properties similar to AgZ.\n",
    "chlorhexidine: Antiseptic and disinfectant used for its antibacterial properties\n",
    "S. mutans: Streptococcus mutans, a bacterium commonly associated with dental caries\n",
    "E. faecalis: Enterococcus faecalis, a type of bacteria\n",
    "KT-308: A specific compound or material used in the context of the text.\n",
    "ZUT: An abbreviation or specific term not fully mentioned in the provided text.\n",
    "shear bond strength: The ability of a material to resist forces that cause the internal structure of the material to slide against itself.\n",
    "calcium hydroxide: An inorganic compound used in various applications including dental materials\n",
    "S. aureus: Staphylococcus aureus\n",
    "C. albicans: Candida albicans\n",
    "P. intermedia: Prevotella intermedia\n",
    "A. israelii: Actinomyces israelii\n",
    "AgZ MTA: Silver-doped mineral trioxide aggregate, a material used in endodontic treatments.\n",
    "silver ion: A positively charged silver atom, often released from silver-containing materials for antimicrobial purposes.\n",
    "Water permeability: The ability of a material to allow water to pass through it\n",
    "Ag-Zn-Ze composites: Composites containing silver, zinc, and zirconium elements, used in materials science for specific properties.\n",
    "tensile bond strength: The maximum tensile stress a material can withstand before failure, indicating its bonding capability.\n",
    "hydration: The process of a substance absorbing water molecules, often leading to a change in its physical or chemical properties.\n",
    "crystallization: The formation of a crystalline solid from a solution, melt, or gas phase, resulting in a well-defined crystal structure.\n",
    "sodium hypochlorite: A chemical compound with the formula NaClO, commonly used as a disinfectant and bleaching agent.\n",
    "octenidine: An antiseptic agent used for skin disinfection and wound healing.\n",
    "sodalite: A type of zeolite mineral with a cubic structure, commonly used in materials science and chemistry.\n",
    "viscoelastic: Exhibiting both viscous and elastic characteristics when undergoing deformation.\n",
    "F. nucleat: Fusobacterium nucleatum, a bacterium found in the human oral cavity and associated with periodontal diseases.\n",
    "PMMA: Polymethyl methacrylate, a synthetic resin commonly used in dental materials and other applications.\n",
    "ZSM-5: A type of zeolite, specifically Zeolite Socony Mobil-5, used in various applications in materials science and chemistry.\n",
    "PBMS: Polydimethylsiloxane, a type of polymer used in film microextraction and gas chromatography–mass spectrometry.\n",
    "lms: Abbreviation for laser mass spectrometry, a technique used for identifying tumor-specific candidate biomarkers.\n",
    "Zeolitic frameworks: Crystalline, microporous materials with a framework structure composed of tetrahedrally coordinated atoms, commonly used for molecular sieving applications.\n",
    "Molecular sieving: A process where molecules are separated based on their size and shape by passing through a porous material that selectively allows certain molecules to pass while blocking others.\n",
    "restorative materials: Materials used in dentistry to repair or replace damaged teeth or oral structures.\n",
    "denture resins: Polymers used in the fabrication of dentures, often incorporating additives like zeolites for improved propertie\n",
    "\"\"\""
   ]
  },
  {
   "cell_type": "code",
   "execution_count": null,
   "metadata": {},
   "outputs": [],
   "source": [
    "\n",
    "\n",
    "documents = [Document(page_content=text)]\n",
    "graph_documents = llm_transformer.convert_to_graph_documents(documents)\n",
    "print(f\"Nodes:{graph_documents[0].nodes}\")\n",
    "print(f\"Relationships:{graph_documents[0].relationships}\")"
   ]
  },
  {
   "cell_type": "code",
   "execution_count": null,
   "metadata": {},
   "outputs": [],
   "source": [
    "graph.add_graph_documents(graph_documents)"
   ]
  }
 ],
 "metadata": {
  "kernelspec": {
   "display_name": "glossagen",
   "language": "python",
   "name": "python3"
  },
  "language_info": {
   "codemirror_mode": {
    "name": "ipython",
    "version": 3
   },
   "file_extension": ".py",
   "mimetype": "text/x-python",
   "name": "python",
   "nbconvert_exporter": "python",
   "pygments_lexer": "ipython3",
   "version": "3.10.14"
  }
 },
 "nbformat": 4,
 "nbformat_minor": 2
}
